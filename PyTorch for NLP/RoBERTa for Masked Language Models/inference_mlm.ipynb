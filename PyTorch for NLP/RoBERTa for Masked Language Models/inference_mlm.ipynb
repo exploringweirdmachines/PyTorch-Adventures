{
 "cells": [
  {
   "cell_type": "code",
   "execution_count": 24,
   "id": "62efe17c-c74a-4b0b-beff-188e3d44b952",
   "metadata": {},
   "outputs": [
    {
     "name": "stdout",
     "output_type": "stream",
     "text": [
      "RobertaConfig(vocab_size=50265, start_token=0, end_token=2, pad_token=2, mask_token=50264, embedding_dimension=768, num_transformer_blocks=12, num_attention_heads=12, mlp_ratio=4, layer_norm_eps=1e-06, hidden_dropout_p=0.1, attention_dropout_p=0.1, context_length=512, masking_prob=0.15, hf_model_name='FacebookAI/roberta-base', pretrained_backbone='pretrained', path_to_pretrained_weights=None)\n"
     ]
    }
   ],
   "source": [
    "import torch\n",
    "from utils import RobertaConfig\n",
    "from model import RobertaForMaskedLM\n",
    "from safetensors.torch import load_file\n",
    "from transformers import RobertaTokenizerFast \n",
    "\n",
    "### Store Path to Weights ###\n",
    "path_to_weights = \"work_dir/RoBERTa_Pretraining/checkpoint_75000/model.safetensors\"\n",
    "\n",
    "### Load Model Config ###\n",
    "config = RobertaConfig()\n",
    "print(config)\n",
    "\n",
    "### Load Tokenizer ###\n",
    "tokenizer = RobertaTokenizerFast.from_pretrained(config.hf_model_name)\n"
   ]
  },
  {
   "cell_type": "markdown",
   "id": "d1010820-1bf9-4ca5-8065-4718f29a1635",
   "metadata": {},
   "source": [
    "### Check Masked Language Model Task ###\n",
    "\n",
    "Again, this model was only trained for about 75K steps, so it wont be as nearly good as the RoBERTa published from Facebook, but it should be able to produce something meaningful hopefully!"
   ]
  },
  {
   "cell_type": "code",
   "execution_count": 37,
   "id": "c7d9169d-16c5-44a2-9d3d-c44cd3791cdc",
   "metadata": {},
   "outputs": [
    {
     "data": {
      "text/plain": [
       "RobertaForMaskedLM(\n",
       "  (roberta): RobertaModel(\n",
       "    (embeddings): RobertaEmbeddings(\n",
       "      (word_embeddings): Embedding(50265, 768, padding_idx=2)\n",
       "      (position_embeddings): Embedding(512, 768)\n",
       "      (layernorm): LayerNorm((768,), eps=1e-06, elementwise_affine=True)\n",
       "      (dropout): Dropout(p=0.1, inplace=False)\n",
       "    )\n",
       "    (encoder): RobertaEncoder(\n",
       "      (layers): ModuleList(\n",
       "        (0-11): 12 x RobertaEncoderLayer(\n",
       "          (attention): RobertaAttention(\n",
       "            (q_proj): Linear(in_features=768, out_features=768, bias=True)\n",
       "            (k_proj): Linear(in_features=768, out_features=768, bias=True)\n",
       "            (v_proj): Linear(in_features=768, out_features=768, bias=True)\n",
       "            (out_proj): Linear(in_features=768, out_features=768, bias=True)\n",
       "          )\n",
       "          (dropout): Dropout(p=0.1, inplace=False)\n",
       "          (layer_norm): LayerNorm((768,), eps=1e-06, elementwise_affine=True)\n",
       "          (feed_forward): RobertaFeedForward(\n",
       "            (intermediate_dense): Linear(in_features=768, out_features=3072, bias=True)\n",
       "            (activation): GELU(approximate='none')\n",
       "            (intermediate_dropout): Dropout(p=0.1, inplace=False)\n",
       "            (output_dense): Linear(in_features=3072, out_features=768, bias=True)\n",
       "            (output_dropout): Dropout(p=0.1, inplace=False)\n",
       "          )\n",
       "          (final_layer_norm): LayerNorm((768,), eps=1e-06, elementwise_affine=True)\n",
       "        )\n",
       "      )\n",
       "    )\n",
       "  )\n",
       "  (mlm_head): RobertaMLMHead(\n",
       "    (dense): Linear(in_features=768, out_features=768, bias=True)\n",
       "    (layer_norm): LayerNorm((768,), eps=1e-06, elementwise_affine=True)\n",
       "    (activation): GELU(approximate='none')\n",
       "    (decoder): Linear(in_features=768, out_features=50265, bias=True)\n",
       "  )\n",
       ")"
      ]
     },
     "execution_count": 37,
     "metadata": {},
     "output_type": "execute_result"
    }
   ],
   "source": [
    "### Load Model ###\n",
    "model = RobertaForMaskedLM(config)\n",
    "model_weights = load_file(path_to_weights)\n",
    "model.load_state_dict(model_weights)\n",
    "model.eval()"
   ]
  },
  {
   "cell_type": "code",
   "execution_count": 87,
   "id": "92988053-c67b-401a-b8a3-a3b3baa25f47",
   "metadata": {},
   "outputs": [
    {
     "name": "stdout",
     "output_type": "stream",
     "text": [
      "Predictions:\n"
     ]
    },
    {
     "data": {
      "text/plain": [
       "['game', 'world', 'king']"
      ]
     },
     "execution_count": 87,
     "metadata": {},
     "output_type": "execute_result"
    }
   ],
   "source": [
    "### Inference Model ###\n",
    "sample_sentence = \"Lets play a <mask> of chess\"\n",
    "tokenized = torch.tensor(tokenizer(sample_sentence)[\"input_ids\"])\n",
    "mask_token_idx = (tokenized == tokenizer.mask_token_id).nonzero().squeeze().item()\n",
    "\n",
    "with torch.inference_mode():\n",
    "    hidden_states, preds = model(tokenized.unsqueeze(0))\n",
    "\n",
    "values, idx = preds.squeeze()[mask_token_idx].topk(3)\n",
    "preds = tokenizer.decode(idx)\n",
    "\n",
    "print(\"Predictions:\")\n",
    "preds.split()\n"
   ]
  }
 ],
 "metadata": {
  "kernelspec": {
   "display_name": "Python 3 (ipykernel)",
   "language": "python",
   "name": "python3"
  },
  "language_info": {
   "codemirror_mode": {
    "name": "ipython",
    "version": 3
   },
   "file_extension": ".py",
   "mimetype": "text/x-python",
   "name": "python",
   "nbconvert_exporter": "python",
   "pygments_lexer": "ipython3",
   "version": "3.12.4"
  }
 },
 "nbformat": 4,
 "nbformat_minor": 5
}
