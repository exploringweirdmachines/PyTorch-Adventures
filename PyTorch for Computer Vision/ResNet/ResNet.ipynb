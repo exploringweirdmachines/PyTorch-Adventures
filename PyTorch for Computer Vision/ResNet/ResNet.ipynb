{
 "cells": [
  {
   "cell_type": "markdown",
   "id": "eee73982-df85-43f0-ae43-caa4ea0f0223",
   "metadata": {},
   "source": [
    "![banner](../../src/visuals/banner.png)\n",
    "\n",
    "# Why is it Called Deep Learning?\n",
    "\n",
    "Like we had talked about before, the word \"Deep\" comes from the fact that there are multiple layers of calculations that happen. The problem is, if our model becomes too deep, we are not able to optimize it anymore! \n",
    "\n",
    "Uptil now we have almost completely ignored the \"why\" or \"how\" backpropagation works so lets take a look now. Couple of things to keep in mind before we get into this. If this doesn't make that much sense (or even if it does beacuse its incredible) please watch the following couple of videos by **3Blue1Brown**!!\n",
    "\n",
    "- [**What is a Neural Network**](https://www.youtube.com/watch?v=aircAruvnKk)\n",
    "- [**Gradient Descent, How Neural Networks Learn**](https://www.youtube.com/watch?v=IHZwWFHWa-w)\n",
    "- [**What is backpropagation really doing?**](https://www.youtube.com/watch?v=IHZwWFHWa-w)\n",
    "\n",
    "If you watch these videos and intuitively understand whats going on, that should give you a pretty good foundation for everything else! The math you need to know to better understand this next part is really just one thing: **Chain Rule!!** This is probably also the most math you will see for our introductory stuff, there is obviously a lot more when we get into our more advanced topics later but dont let this scare you away!\n",
    "\n",
    "### Chain Rule Recap\n",
    "\n",
    "Let $f(y) = y^2$ and $g(x) = 3x + 2$. Then $f(g(x)) = (3x+2)^2$. Now if we want to take the derivative of the function with respect to x, the problem is that x is composed in a function composed inside another function! This is exactly what the chain rule was made for :\n",
    "\n",
    "$$\\frac{df}{dx} = \\frac{df}{dg}\\frac{dg}{dx} = 2 * (3x+2)*\\frac{dg}{dx} = 2(3x+2)(3) = 6(3x+2)$$\n",
    "\n",
    "### BackPropagation on an Easy Neural Network\n",
    "Lets take this basic example to see hwo backpropagation works:\n",
    "\n",
    "![easynet](../../src/visuals/easynet.png)\n",
    "\n",
    "This model has 3 inputs $[x_1, x_2, x_3]$, a single hidden layer with 2 nodes, and a single output. The loss we will use is our standard regression loss Mean squared error!\n",
    "\n",
    "\n",
    "Lets break this neural network up into all its components:\n",
    "\n",
    "$$Loss = L = \\frac{1}{N}(y_{true} - y_{pred})^2$$\n",
    "\n",
    "We can now write the expression for $y_{pred}$ based on the two previous nodes $[h_1, h_2]$ and their respective weights $[w_1^{[2]}, w_2^{[2]}]$\n",
    "\n",
    "$$y_{pred} = h_1*w_1^{[2]} + h_2*w_2^{[2]}$$\n",
    "\n",
    "We can now write a out the expression for $[h_1, h_2]$ given the inputs $[x_1, x_2, x_3]$ and the weights $[w_1^{[1]}, w_2^{[1]}, w_3^{[1]}, w_4^{[1]}, w_5^{[1]}, w_6^{[1]}]$\n",
    "\n",
    "$$h_1 = x_1*w_1^{[1]} + x_2*w_3^{[1]} + x_3*w_5^{[1]}$$\n",
    "\n",
    "$$h_2 = x_1*w_2^{[1]} + x_2*w_4^{[1]} + x_3*w_6^{[1]}$$\n",
    "\n",
    "As we can see, we have a bunch of compositions of fuctions here! Therefore we know **Chain Rule** will come into play somewhere. As we know, our goal is to minimize our Mean Squared Error Loss $L$. So lets start at the end of the network and work our way back! The variable is $y_{pred}$ and we want to take the derivative of this loss with respect to this variable\n",
    "\n",
    "$$\\frac{dL}{dy_{pred}} = -\\frac{2}{N}(y_{true} - y_{pred})$$\n",
    "\n",
    "The problem is, we can't really control $y_{pred}$ directly, and our only way to make a change is through our two weight parameters $[w_1^{[2]}, w_2^{[2]}]$. In that case, lets take the derivative of $L$ with respect to the first of these weights $w_1^{[2]}$\n",
    "\n",
    "$$\\frac{dL}{dw_1^{[2]}} = \\frac{dL}{dy_{pred}}\\frac{dy_{pred}}{dw_1^{[2]}}$$\n",
    "\n",
    "$$\\frac{dL}{dy_{pred}} \\text{ was calculated previously}$$\n",
    "\n",
    "$$\\frac{dy_{pred}}{dw_1^{[2]}} = \\frac{d(h_1*w_1^{[2]} + h_2*w_2^{[2]})}{dw_1^{[2]}} = h_1$$\n",
    "\n",
    "$$\\therefore \\frac{dL}{dw_1^{[2]}} = -\\frac{2h_1}{N}(y_{true} - y_{pred}) $$\n",
    "\n",
    "And similarly:\n",
    "$$\\frac{dL}{dw_2^{[2]}} = -\\frac{2h_2}{N}(y_{true} - y_{pred}) $$\n",
    "\n",
    "Great! We did backpropagation for just one layer... Now another one!!\n",
    "\n",
    "Lets take the derivative of $L$$$\\frac{dL}{dw_1^{[1]}} = \\frac{dL}{dy_{pred}}\\frac{dy_{pred}}{dh_1}\\frac{dh_1}{dw_1^{[1]}}$$\n",
    "\n",
    "$$\\frac{dL}{dy_{pred}} \\text{ was calculated previously}$$\n",
    "\n",
    "$$\\frac{dy_{pred}}{dh_1} = w_1^{[2]}$$\n",
    "\n",
    "$$\\frac{dh_1}{dw_1^{[1]}} = x_1$$\n",
    "\n",
    "$$\\therefore \\frac{dL}{dw_1^{[1]}} = -\\frac{2w_1^{[2]}x_1}{N}(y_{true} - y_{pred})$$\n",
    "\n",
    "### Lets Stop Here\n",
    "Ok we could keep going but I think we get the point... Now that we see what backpropagation looks like (and again please watch the videos to really know whats going on), lets see what the problem is.\n",
    "\n",
    "### Problems with BackPropagation\n",
    "Pretend we have 5 hidden layers and want to backpropagate to the start of the network. All the math afterwards has some forced notation but it should give you the concept of whats going on!\n",
    "\n",
    "$$\\frac{dL}{dw_1} = \\frac{dL}{dy_{pred}}\\frac{dy_{pred}}{dh^{[5]}}\\frac{dh^{[5]}}{dh^{[4]}}\\frac{dh^{[4]}}{dh^{[3]}}\\frac{dh^{[3]}}{dh^{[2]}}\\frac{dh^{[2]}}{dh^{[1]}}\\frac{dh^{[1]}}{dw_1}$$\n",
    "\n",
    "- **Vanishing Gradient:** If all our derivatives are small, then multiplying a lot of small numbers together will cause the overall gradient to be 0. If we are depending on the gradients to tell us the direction to shift all the parameters, and the gradient is 0, then the network gets stuck as that information isn't making it.\n",
    "\n",
    "\n",
    "## Let Build Deeper Networks with **Residuals**!!\n",
    "As we saw previously, the gradients flow through the nodes of the model, but the issue is, if we want to find the derivative of one of the earlier layers, we need to pass through **ALL** of the layers in front of it! Therefore, the [ResNet paper](https://arxiv.org/pdf/1512.03385.pdf) proposed, what if we offer the model another path for gradients to flow? This is done by adding earlier tensors of the model to later layers as shown:\n",
    "\n",
    "![resnet](https://miro.medium.com/v2/resize:fit:1400/format:webp/1*6hF97Upuqg_LdsqWY6n_wg.png)\n",
    "\n",
    "As its shown, between every couple of Convolution layers we have a feedforward connection known as a **Residual** or **Skip Connection**. By doing so, when doing backpropagation, the gradients have an easier path to flow backward though the Network rather than going through all of those convolutions. \n",
    "\n",
    "Implementation wise though, we have a big issue! If we have a tensor from a previous layer and we add it to a later layer, wont the shapes be different? It will be and we will have to do some work to get that to align!\n",
    "\n",
    "We can also quickly zoom in to make it more clear that the type of skip connection we will be doing is a sum operator\n",
    "\n",
    "![skip](../../src/visuals/residual_block.png)\n",
    "\n",
    "\n",
    "## ResNet Implementation!!\n",
    "Finally! The fun part, lets go ahead and build this model, and lucky for us, the ResNet Paper outlines, for the most part, all the details of the architecture.\n",
    "\n",
    "![architecture](../../src/visuals/ResNetArchitecture.png)\n",
    "\n",
    "We will be making the three largest model they have with 50, 101 and 152 Layers and we can make a couple of notes here:\n",
    "\n",
    "- The first convolution for all models has a kernel size of 7 and outputs to 64 channels with a stride of 2\n",
    "- We follow this with a 3x3 maxpooling with a stride of 2\n",
    "- Each block takes an input image, and passes it through 3 convolution blocks:\n",
    "    - The first set takes in 64 channels and outputs 256 (or 4 * 64) channels\n",
    "    - The second set goes down to 128 channels and then outputs 512 channels (or 4 * 128)\n",
    "- It is also shared below that the convolutions in block 3, 4, and 5 have a stride of 2 for the middle convolution in the first occurance of that block in its set of N blocks\n",
    "- Residuals are encoded by adding the input to a block to the output of all the computation in a block\n",
    "\n",
    "\n",
    "The Implementation of this model will follow the [PyTorch Implementation](https://github.com/pytorch/vision/blob/main/torchvision/models/resnet.py) relatively closely, so take a look at that for reference!"
   ]
  },
  {
   "cell_type": "code",
   "execution_count": 2,
   "id": "cb6f6918-7f39-4983-a4c1-0804fd747975",
   "metadata": {},
   "outputs": [],
   "source": [
    "import torch\n",
    "import torch.nn as nn\n",
    "import torch.optim as optim\n",
    "from torchvision import transforms\n",
    "from torch.utils.data import Dataset, DataLoader\n",
    "from torchvision.datasets import ImageFolder\n",
    "from tqdm.notebook import tqdm\n",
    "import numpy as np\n",
    "import matplotlib.pyplot as plt\n",
    "\n",
    "import warnings\n",
    "warnings.filterwarnings(\"ignore\")"
   ]
  },
  {
   "cell_type": "markdown",
   "id": "57fa8f61-a78c-433f-81ff-8013070e9443",
   "metadata": {},
   "source": [
    "### A Little Bit of Cheating!\n",
    "Just to make it clear when we need to rescale our input so it matches the output which allows us to add them together! We will have an output tensor X and to it we need to do some adjustment to the tensor Identity so we can actually add them together! I printed out the 4 times in the mode where this downsampling was needed.\n",
    "\n",
    "```\n",
    "X: torch.Size([2, 256, 64, 64]) Identity: torch.Size([2, 64, 64, 64])    # Notice the change in channels\n",
    "X: torch.Size([2, 512, 32, 32]) Identity: torch.Size([2, 256, 64, 64])   # Notice the change in channels and the change in image size\n",
    "X: torch.Size([2, 1024, 16, 16]) Identity: torch.Size([2, 512, 32, 32])\n",
    "X: torch.Size([2, 2048, 8, 8]) Identity: torch.Size([2, 1024, 16, 16])\n",
    "```\n",
    "\n",
    "We will need to downsample if either of these two conditions are met:\n",
    "- If the number of channels dont match, we need to use a convolution to upscale our Identity function by 4x the channels\n",
    "    - This will always happen at the start of a new block. For example, the first block expects an input of 64 channels, therefore the identity will have 64 channels. Once we upscale X to 256, we cannot add the identity anymore as we dont have the same number of channels. But we will repeat this block 3 times in total! This next time we will pass in a tensor with 256 channels so the identity will have 256 channels. X will then get downscaled to 64 channels and then upscaled again to 256, so our number of channels is now the same and we can safely add!\n",
    "    \n",
    "- If the image size no longer matches, we need to use a convolution to downscale our image. We see in the Convolution blocks 3, 4, and 5, we will use a stride of 2 2 on the first occurance of that block. That means whatever the identity is initially, X will be half that due to the stride of 2. X will also have more channels so we will need to both match the channels and use a stride of 2 to downscale it.\n",
    "\n",
    "### How can we change the channels without changing the shape?\n",
    "Typically when we calculate a convolution, it will do some downsampling of the image, unless we are really careful with our padding. There is an easier way though! We can just use a kernel_size of 1! That doesn't seem like it does anything, as we will do a calculation on a single pixel rather than on a patch of pixels, but it lets us easily change the number of channels on an image without changing the shape. "
   ]
  },
  {
   "cell_type": "code",
   "execution_count": 9,
   "id": "80cf00fd-1329-40d3-803b-cbcbc1ca95f8",
   "metadata": {},
   "outputs": [],
   "source": [
    "class ResidualBlock(nn.Module):\n",
    "    def __init__(self, in_planes, planes, downsample=None, middle_conv_stride=1, residual=True):\n",
    "        \"\"\"\n",
    "        This residual block will be reused multiple times to define our model. It consists of 3 convolutional layers, \n",
    "        along with Batch Normalization and ReLU. If a downsample is needed, it will also accept a downsampling convolution\n",
    "        that will ensure our identity is equal to the output before returning. \n",
    "        \n",
    "        in_planes: Expected Number of Input Planes\n",
    "        planes: Number of Planes to Map to in the Intermediate before expansion\n",
    "        downsample: Pass in a downsampling function to ensure Identity shape matches X\n",
    "        middle_conv_stride: The first block in every set of N blocks has a stride of 2 on the second convolution\n",
    "        residual: Turn the residual sum on or off\n",
    "        \"\"\"\n",
    "        super(ResidualBlock, self).__init__()\n",
    "        ### Set Convolutional Layers ###\n",
    "        self.conv1 = nn.Conv2d(in_planes, planes, kernel_size=1, stride=1)\n",
    "        self.bn1 = nn.BatchNorm2d(planes)\n",
    "        self.conv2 = nn.Conv2d(planes, planes, kernel_size=3, stride=middle_conv_stride, padding=1)\n",
    "        self.bn2 = nn.BatchNorm2d(planes)\n",
    "        \n",
    "        ### Output to planes * 4 as our expansion ###\n",
    "        self.conv3 = nn.Conv2d(planes, planes*4, kernel_size=1, stride=1)\n",
    "        self.bn3 = nn.BatchNorm2d(planes*4)\n",
    "        self.relu = nn.ReLU()\n",
    "        \n",
    "        ### This Will Exist if a Downsample Is Needed ###\n",
    "        self.downsample = downsample\n",
    "        self.residual = residual\n",
    "        \n",
    "    def forward(self, x):\n",
    "        identity = x # Store the identity function\n",
    "\n",
    "        x = self.conv1(x)\n",
    "        x = self.bn1(x)\n",
    "        x = self.relu(x)\n",
    "        \n",
    "        x = self.conv2(x)\n",
    "        x = self.bn2(x)\n",
    "        x = self.relu(x)\n",
    "        \n",
    "        x = self.conv3(x)\n",
    "        x = self.bn3(x)\n",
    "        x = self.relu(x)\n",
    "        \n",
    "        if self.residual:\n",
    "            if self.downsample is not None: # If our identity function has less channels or larger size we remap it\n",
    "                identity = self.downsample(identity)\n",
    "                \n",
    "            x  = x + identity\n",
    "\n",
    "        return x\n",
    "    \n",
    "\n",
    "class ResNet(nn.Module):\n",
    "    def __init__(self, layer_counts, num_channels=3, num_classes=2, residual=True):\n",
    "        \"\"\"\n",
    "        ResNet Implementation (Inspired by PyTorch torchvision.models implementation)\n",
    "        \n",
    "        layer_counts: Number of blocks in each set of blocks passed as a list\n",
    "        num_channels: Number of input channels to model\n",
    "        num_classes: Number of outputs for classification\n",
    "        residual: Turn on or off residual connections\n",
    "        \"\"\"\n",
    "        super(ResNet, self).__init__()\n",
    "        self.residual = residual # Store if we want residual connections\n",
    "        self.inplanes = 64 # Starting number of planes to map to from input channels\n",
    "        \n",
    "        ### INITIAL SET OF CONVOLUTIONS ###\n",
    "        self.conv1 = nn.Conv2d(3, self.inplanes, kernel_size=7, stride=2, padding=3)\n",
    "        self.bn1 = nn.BatchNorm2d(self.inplanes)\n",
    "        self.relu = nn.ReLU()\n",
    "        self.maxpool = nn.MaxPool2d(kernel_size=3, stride=2, padding=1)\n",
    "        \n",
    "        ### DEFINE LAYERS ###\n",
    "        self.layer1 = self._make_layers(layer_counts[0], planes=64, stride=1)\n",
    "        self.layer2 = self._make_layers(layer_counts[1], planes=128, stride=2)\n",
    "        self.layer3 = self._make_layers(layer_counts[2], planes=256, stride=2)\n",
    "        self.layer4 = self._make_layers(layer_counts[3], planes=512, stride=2)\n",
    "        \n",
    "        ### AVERAGE POOLING AND MAP TO CLASSIFIER ###\n",
    "        self.avgpool = nn.AdaptiveAvgPool2d((1,1))\n",
    "        self.fc = nn.Linear(512*4, num_classes)\n",
    "    \n",
    "    def _make_layers(self, num_residual_blocks, planes, stride):\n",
    "        downsample = None # Initialize downsampling as None\n",
    "        layers = nn.ModuleList() # Create a Module list to store all our convolutions\n",
    "        \n",
    "        # If we have a stride of 2, or the number of planes dont match. This condition will ALWAYS BE MET only \n",
    "        #on the first block of every set of blocks\n",
    "        \n",
    "        if stride != 1 or self.inplanes != planes*4: \n",
    "            ### Map to the number of wanted planes with a stride of 2 to map identity to X\n",
    "            downsample = nn.Sequential(nn.Conv2d(self.inplanes, planes*4, kernel_size=1, stride=stride),\n",
    "                                       nn.BatchNorm2d(planes*4))\n",
    "\n",
    "        ### Append this First Block with the Downsample Layer ###\n",
    "        layers.append(ResidualBlock(in_planes=self.inplanes,\n",
    "                                    planes=planes, \n",
    "                                    downsample=downsample,\n",
    "                                    middle_conv_stride=stride,\n",
    "                                    residual=self.residual))\n",
    "        \n",
    "        ### Set our InPlanes to be expanded by 4 ###\n",
    "        self.inplanes = planes * 4\n",
    "        \n",
    "        ### The remaining layers shouldnt have any issues so we can just append all of teh blocks on ###\n",
    "        for _ in range(num_residual_blocks - 1):\n",
    "            layers.append(\n",
    "                ResidualBlock(\n",
    "                    in_planes=self.inplanes, \n",
    "                    planes = planes,\n",
    "                    residual=self.residual\n",
    "                )\n",
    "            )\n",
    "        \n",
    "        return nn.Sequential(*layers)\n",
    "        \n",
    "\n",
    "    def forward(self, x):\n",
    "        x = self.conv1(x)\n",
    "        x = self.bn1(x)\n",
    "        x = self.relu(x)\n",
    "        x = self.maxpool(x)\n",
    "        x = self.layer1(x)\n",
    "        x = self.layer2(x)\n",
    "        x = self.layer3(x)\n",
    "        x = self.layer4(x)\n",
    "        \n",
    "        x = self.avgpool(x)\n",
    "        x = x.reshape(x.shape[0], -1)\n",
    "        x = self.fc(x)\n",
    "        return x\n",
    "    \n",
    "### PreDefine Different ResNet Models ###\n",
    "def ResNet50(residual=True):\n",
    "    return ResNet([3,4,6,3], residual=residual)\n",
    "\n",
    "def ResNet101(residual=True):\n",
    "    return ResNet([3,4,23,3], residual=residual)\n",
    "\n",
    "def ResNet152(residual=True):\n",
    "    return ResNet([3,8,36,3], residual=residual)"
   ]
  },
  {
   "cell_type": "markdown",
   "id": "8e6b7f2b-1bed-49d5-b52c-4206614a002e",
   "metadata": {},
   "source": [
    "## Train Model!\n",
    "\n",
    "We will train this model with the residuals on and off to see how the performance differs!"
   ]
  },
  {
   "cell_type": "code",
   "execution_count": 3,
   "id": "84ccb2d6-d9c6-49dc-a1ef-853c1294ef40",
   "metadata": {},
   "outputs": [],
   "source": [
    "### Build Cats vs Dogs Dataset ###\n",
    "PATH_TO_DATA = \"../../data/dogsvscats/\"\n",
    "\n",
    "### DEFINE TRANSFORMATIONS ###\n",
    "normalizer = transforms.Normalize(mean=[0.485,0.456,0.406], std=[0.229,0.224,0.225]) ### IMAGENET MEAN/STD ###\n",
    "train_transforms = transforms.Compose([\n",
    "                                        transforms.Resize((224,224)),\n",
    "                                        transforms.RandomHorizontalFlip(),\n",
    "                                        transforms.ToTensor(),\n",
    "                                        normalizer\n",
    "                                      ])\n",
    "\n",
    "\n",
    "dataset = ImageFolder(PATH_TO_DATA, transform=train_transforms)\n",
    "\n",
    "train_samples, test_samples = int(0.9 * len(dataset)), len(dataset) - int(0.9 * len(dataset))\n",
    "train_dataset, val_dataset = torch.utils.data.random_split(dataset, lengths=[train_samples, test_samples])\n",
    "\n",
    "def train(model, device, epochs, optimizer, loss_fn, batch_size, trainloader, valloader):\n",
    "    log_training = {\"epoch\": [],\n",
    "                    \"training_loss\": [],\n",
    "                    \"training_acc\": [],\n",
    "                    \"validation_loss\": [],\n",
    "                    \"validation_acc\": []}\n",
    "\n",
    "    for epoch in range(1, epochs + 1):\n",
    "        print(f\"Starting Epoch {epoch}\")\n",
    "        training_losses, training_accuracies = [], []\n",
    "        validation_losses, validation_accuracies = [], []\n",
    "        \n",
    "        model.train() # Turn On BatchNorm and Dropout\n",
    "        for image, label in tqdm(trainloader):\n",
    "            image, label = image.to(DEVICE), label.to(DEVICE)\n",
    "            optimizer.zero_grad()\n",
    "            out = model.forward(image)\n",
    "        \n",
    "            ### CALCULATE LOSS ##\n",
    "            loss = loss_fn(out, label)\n",
    "            training_losses.append(loss.item())\n",
    "\n",
    "            ### CALCULATE ACCURACY ###\n",
    "            predictions = torch.argmax(out, axis=1)\n",
    "            accuracy = (predictions == label).sum() / len(predictions)\n",
    "            training_accuracies.append(accuracy.item())\n",
    "\n",
    "            loss.backward()\n",
    "            optimizer.step()\n",
    "\n",
    "        model.eval() # Turn Off Batchnorm \n",
    "        for image, label in tqdm(valloader):\n",
    "            image, label = image.to(DEVICE), label.to(DEVICE)\n",
    "            with torch.no_grad():\n",
    "                out = model.forward(image)\n",
    "\n",
    "                ### CALCULATE LOSS ##\n",
    "                loss = loss_fn(out, label)\n",
    "                validation_losses.append(loss.item())\n",
    "\n",
    "                ### CALCULATE ACCURACY ###\n",
    "                predictions = torch.argmax(out, axis=1)\n",
    "                accuracy = (predictions == label).sum() / len(predictions)\n",
    "                validation_accuracies.append(accuracy.item())\n",
    "\n",
    "        training_loss_mean, training_acc_mean = np.mean(training_losses), np.mean(training_accuracies)\n",
    "        valid_loss_mean, valid_acc_mean = np.mean(validation_losses), np.mean(validation_accuracies)\n",
    "\n",
    "        log_training[\"epoch\"].append(epoch)\n",
    "        log_training[\"training_loss\"].append(training_loss_mean)\n",
    "        log_training[\"training_acc\"].append(training_acc_mean)\n",
    "        log_training[\"validation_loss\"].append(valid_loss_mean)\n",
    "        log_training[\"validation_acc\"].append(valid_acc_mean)\n",
    "\n",
    "        print(\"Training Loss:\", training_loss_mean) \n",
    "        print(\"Training Acc:\", training_acc_mean)\n",
    "        print(\"Validation Loss:\", valid_loss_mean)\n",
    "        print(\"Validation Acc:\", valid_acc_mean)\n",
    "        \n",
    "    return log_training, model\n"
   ]
  },
  {
   "cell_type": "markdown",
   "id": "fd39e402-1d93-44b9-9b17-9ff10ae3da80",
   "metadata": {},
   "source": [
    "## ResNet: Residuals vs No Residuals"
   ]
  },
  {
   "cell_type": "code",
   "execution_count": 4,
   "id": "dae607d7-fec4-4a8b-b378-175f2f7d73a5",
   "metadata": {},
   "outputs": [
    {
     "name": "stdout",
     "output_type": "stream",
     "text": [
      "Training on Device cuda\n",
      "Training With Residuals\n",
      "Starting Epoch 1\n"
     ]
    },
    {
     "data": {
      "application/vnd.jupyter.widget-view+json": {
       "model_id": "b279b8229d894c5db6e1835b849fd9fa",
       "version_major": 2,
       "version_minor": 0
      },
      "text/plain": [
       "  0%|          | 0/176 [00:00<?, ?it/s]"
      ]
     },
     "metadata": {},
     "output_type": "display_data"
    },
    {
     "data": {
      "application/vnd.jupyter.widget-view+json": {
       "model_id": "a391b66e41f14d6fa89671b49d142381",
       "version_major": 2,
       "version_minor": 0
      },
      "text/plain": [
       "  0%|          | 0/20 [00:00<?, ?it/s]"
      ]
     },
     "metadata": {},
     "output_type": "display_data"
    },
    {
     "name": "stdout",
     "output_type": "stream",
     "text": [
      "Training Loss: 0.605792695317756\n",
      "Training Acc: 0.6897446540268984\n",
      "Validation Loss: 0.6175636559724808\n",
      "Validation Acc: 0.7450352817773819\n",
      "Starting Epoch 2\n"
     ]
    },
    {
     "data": {
      "application/vnd.jupyter.widget-view+json": {
       "model_id": "87281213aeee43b985caeaca756bfd8b",
       "version_major": 2,
       "version_minor": 0
      },
      "text/plain": [
       "  0%|          | 0/176 [00:00<?, ?it/s]"
      ]
     },
     "metadata": {},
     "output_type": "display_data"
    },
    {
     "data": {
      "application/vnd.jupyter.widget-view+json": {
       "model_id": "82462f5aa2ab454caabb007c80b3bc1c",
       "version_major": 2,
       "version_minor": 0
      },
      "text/plain": [
       "  0%|          | 0/20 [00:00<?, ?it/s]"
      ]
     },
     "metadata": {},
     "output_type": "display_data"
    },
    {
     "name": "stdout",
     "output_type": "stream",
     "text": [
      "Training Loss: 0.43744361781599844\n",
      "Training Acc: 0.8020793345164169\n",
      "Validation Loss: 0.4021762743592262\n",
      "Validation Acc: 0.825138607621193\n",
      "Starting Epoch 3\n"
     ]
    },
    {
     "data": {
      "application/vnd.jupyter.widget-view+json": {
       "model_id": "7d1e8a453dd44bc785e4c2244c057f47",
       "version_major": 2,
       "version_minor": 0
      },
      "text/plain": [
       "  0%|          | 0/176 [00:00<?, ?it/s]"
      ]
     },
     "metadata": {},
     "output_type": "display_data"
    },
    {
     "data": {
      "application/vnd.jupyter.widget-view+json": {
       "model_id": "ffc63c638e144af18763054d453df34a",
       "version_major": 2,
       "version_minor": 0
      },
      "text/plain": [
       "  0%|          | 0/20 [00:00<?, ?it/s]"
      ]
     },
     "metadata": {},
     "output_type": "display_data"
    },
    {
     "name": "stdout",
     "output_type": "stream",
     "text": [
      "Training Loss: 0.3369456966492263\n",
      "Training Acc: 0.8544382005929947\n",
      "Validation Loss: 0.3696331463754177\n",
      "Validation Acc: 0.8561239898204803\n",
      "Starting Epoch 4\n"
     ]
    },
    {
     "data": {
      "application/vnd.jupyter.widget-view+json": {
       "model_id": "99ebde6956df49c28aed0c235ae8f754",
       "version_major": 2,
       "version_minor": 0
      },
      "text/plain": [
       "  0%|          | 0/176 [00:00<?, ?it/s]"
      ]
     },
     "metadata": {},
     "output_type": "display_data"
    },
    {
     "data": {
      "application/vnd.jupyter.widget-view+json": {
       "model_id": "e4f9f63df6d14f35ac97b43a307aa8d2",
       "version_major": 2,
       "version_minor": 0
      },
      "text/plain": [
       "  0%|          | 0/20 [00:00<?, ?it/s]"
      ]
     },
     "metadata": {},
     "output_type": "display_data"
    },
    {
     "name": "stdout",
     "output_type": "stream",
     "text": [
      "Training Loss: 0.2507919051515108\n",
      "Training Acc: 0.896471178328449\n",
      "Validation Loss: 0.28696093186736105\n",
      "Validation Acc: 0.8807081639766693\n",
      "Starting Epoch 5\n"
     ]
    },
    {
     "data": {
      "application/vnd.jupyter.widget-view+json": {
       "model_id": "3a03c0d93d7742b4bfacd7e517895548",
       "version_major": 2,
       "version_minor": 0
      },
      "text/plain": [
       "  0%|          | 0/176 [00:00<?, ?it/s]"
      ]
     },
     "metadata": {},
     "output_type": "display_data"
    },
    {
     "data": {
      "application/vnd.jupyter.widget-view+json": {
       "model_id": "d34edc24fa3d43a68d4cd1d1963faad1",
       "version_major": 2,
       "version_minor": 0
      },
      "text/plain": [
       "  0%|          | 0/20 [00:00<?, ?it/s]"
      ]
     },
     "metadata": {},
     "output_type": "display_data"
    },
    {
     "name": "stdout",
     "output_type": "stream",
     "text": [
      "Training Loss: 0.18812258990312164\n",
      "Training Acc: 0.9230807067995722\n",
      "Validation Loss: 0.2755331866443157\n",
      "Validation Acc: 0.9022177398204804\n",
      "Starting Epoch 6\n"
     ]
    },
    {
     "data": {
      "application/vnd.jupyter.widget-view+json": {
       "model_id": "39f333386e4f4aebb27753aba2389cf6",
       "version_major": 2,
       "version_minor": 0
      },
      "text/plain": [
       "  0%|          | 0/176 [00:00<?, ?it/s]"
      ]
     },
     "metadata": {},
     "output_type": "display_data"
    },
    {
     "data": {
      "application/vnd.jupyter.widget-view+json": {
       "model_id": "1324278a1a49401e88c3efc38cb741a6",
       "version_major": 2,
       "version_minor": 0
      },
      "text/plain": [
       "  0%|          | 0/20 [00:00<?, ?it/s]"
      ]
     },
     "metadata": {},
     "output_type": "display_data"
    },
    {
     "name": "stdout",
     "output_type": "stream",
     "text": [
      "Training Loss: 0.14561690697023136\n",
      "Training Acc: 0.9442267641425133\n",
      "Validation Loss: 0.2172823216766119\n",
      "Validation Acc: 0.9092741906642914\n",
      "Starting Epoch 7\n"
     ]
    },
    {
     "data": {
      "application/vnd.jupyter.widget-view+json": {
       "model_id": "d3ffd26da68c4021bd8b7761e7d9e840",
       "version_major": 2,
       "version_minor": 0
      },
      "text/plain": [
       "  0%|          | 0/176 [00:00<?, ?it/s]"
      ]
     },
     "metadata": {},
     "output_type": "display_data"
    },
    {
     "data": {
      "application/vnd.jupyter.widget-view+json": {
       "model_id": "50045d4ab16b4e208d0e64b7df40e0b4",
       "version_major": 2,
       "version_minor": 0
      },
      "text/plain": [
       "  0%|          | 0/20 [00:00<?, ?it/s]"
      ]
     },
     "metadata": {},
     "output_type": "display_data"
    },
    {
     "name": "stdout",
     "output_type": "stream",
     "text": [
      "Training Loss: 0.11803947374309329\n",
      "Training Acc: 0.9535964856093581\n",
      "Validation Loss: 0.26405574157834055\n",
      "Validation Acc: 0.8974546372890473\n",
      "Starting Epoch 8\n"
     ]
    },
    {
     "data": {
      "application/vnd.jupyter.widget-view+json": {
       "model_id": "b3317c561c144cf4881bf5b3d4990895",
       "version_major": 2,
       "version_minor": 0
      },
      "text/plain": [
       "  0%|          | 0/176 [00:00<?, ?it/s]"
      ]
     },
     "metadata": {},
     "output_type": "display_data"
    },
    {
     "data": {
      "application/vnd.jupyter.widget-view+json": {
       "model_id": "3a4d0350c9e94c0b95099091f9b1daea",
       "version_major": 2,
       "version_minor": 0
      },
      "text/plain": [
       "  0%|          | 0/20 [00:00<?, ?it/s]"
      ]
     },
     "metadata": {},
     "output_type": "display_data"
    },
    {
     "name": "stdout",
     "output_type": "stream",
     "text": [
      "Training Loss: 0.09642049733718688\n",
      "Training Acc: 0.9626242897727273\n",
      "Validation Loss: 0.26569194830954074\n",
      "Validation Acc: 0.9096900194883346\n",
      "Starting Epoch 9\n"
     ]
    },
    {
     "data": {
      "application/vnd.jupyter.widget-view+json": {
       "model_id": "accc884434674477b1fc0da935926205",
       "version_major": 2,
       "version_minor": 0
      },
      "text/plain": [
       "  0%|          | 0/176 [00:00<?, ?it/s]"
      ]
     },
     "metadata": {},
     "output_type": "display_data"
    },
    {
     "data": {
      "application/vnd.jupyter.widget-view+json": {
       "model_id": "a0a80b40ccf6405fbcaa764790242ef3",
       "version_major": 2,
       "version_minor": 0
      },
      "text/plain": [
       "  0%|          | 0/20 [00:00<?, ?it/s]"
      ]
     },
     "metadata": {},
     "output_type": "display_data"
    },
    {
     "name": "stdout",
     "output_type": "stream",
     "text": [
      "Training Loss: 0.07974699968260458\n",
      "Training Acc: 0.9701740538532083\n",
      "Validation Loss: 0.20739666055887937\n",
      "Validation Acc: 0.9273185461759568\n",
      "Starting Epoch 10\n"
     ]
    },
    {
     "data": {
      "application/vnd.jupyter.widget-view+json": {
       "model_id": "54b073e03bd5403a8cdf60c54bff9ddd",
       "version_major": 2,
       "version_minor": 0
      },
      "text/plain": [
       "  0%|          | 0/176 [00:00<?, ?it/s]"
      ]
     },
     "metadata": {},
     "output_type": "display_data"
    },
    {
     "data": {
      "application/vnd.jupyter.widget-view+json": {
       "model_id": "a9eff60445d74f60aa3fa06055261bd0",
       "version_major": 2,
       "version_minor": 0
      },
      "text/plain": [
       "  0%|          | 0/20 [00:00<?, ?it/s]"
      ]
     },
     "metadata": {},
     "output_type": "display_data"
    },
    {
     "name": "stdout",
     "output_type": "stream",
     "text": [
      "Training Loss: 0.06524404415077614\n",
      "Training Acc: 0.9755451476032083\n",
      "Validation Loss: 0.22669211626052857\n",
      "Validation Acc: 0.9249747961759567\n",
      "Training Without Residuals\n",
      "Starting Epoch 1\n"
     ]
    },
    {
     "data": {
      "application/vnd.jupyter.widget-view+json": {
       "model_id": "b3765547a1cb46d3b3719fa2cd29c673",
       "version_major": 2,
       "version_minor": 0
      },
      "text/plain": [
       "  0%|          | 0/176 [00:00<?, ?it/s]"
      ]
     },
     "metadata": {},
     "output_type": "display_data"
    },
    {
     "data": {
      "application/vnd.jupyter.widget-view+json": {
       "model_id": "dd11f51874054703a4d3cf70d69565aa",
       "version_major": 2,
       "version_minor": 0
      },
      "text/plain": [
       "  0%|          | 0/20 [00:00<?, ?it/s]"
      ]
     },
     "metadata": {},
     "output_type": "display_data"
    },
    {
     "name": "stdout",
     "output_type": "stream",
     "text": [
      "Training Loss: 0.69610734148459\n",
      "Training Acc: 0.539255653084679\n",
      "Validation Loss: 0.7052511781454086\n",
      "Validation Acc: 0.5404359877109528\n",
      "Starting Epoch 2\n"
     ]
    },
    {
     "data": {
      "application/vnd.jupyter.widget-view+json": {
       "model_id": "7df5c259c5be4f43a013880191511b21",
       "version_major": 2,
       "version_minor": 0
      },
      "text/plain": [
       "  0%|          | 0/176 [00:00<?, ?it/s]"
      ]
     },
     "metadata": {},
     "output_type": "display_data"
    },
    {
     "data": {
      "application/vnd.jupyter.widget-view+json": {
       "model_id": "8cc07e034c69460ba3fc0930f6366254",
       "version_major": 2,
       "version_minor": 0
      },
      "text/plain": [
       "  0%|          | 0/20 [00:00<?, ?it/s]"
      ]
     },
     "metadata": {},
     "output_type": "display_data"
    },
    {
     "name": "stdout",
     "output_type": "stream",
     "text": [
      "Training Loss: 0.6880550550466235\n",
      "Training Acc: 0.5530942874875936\n",
      "Validation Loss: 0.687368980050087\n",
      "Validation Acc: 0.5568422377109528\n",
      "Starting Epoch 3\n"
     ]
    },
    {
     "data": {
      "application/vnd.jupyter.widget-view+json": {
       "model_id": "d727281ad92f44468b1c3ad8f268f313",
       "version_major": 2,
       "version_minor": 0
      },
      "text/plain": [
       "  0%|          | 0/176 [00:00<?, ?it/s]"
      ]
     },
     "metadata": {},
     "output_type": "display_data"
    },
    {
     "data": {
      "application/vnd.jupyter.widget-view+json": {
       "model_id": "b39f319635574196ab373502d6bc0763",
       "version_major": 2,
       "version_minor": 0
      },
      "text/plain": [
       "  0%|          | 0/20 [00:00<?, ?it/s]"
      ]
     },
     "metadata": {},
     "output_type": "display_data"
    },
    {
     "name": "stdout",
     "output_type": "stream",
     "text": [
      "Training Loss: 0.6863568171181462\n",
      "Training Acc: 0.5595103271982886\n",
      "Validation Loss: 0.695856112241745\n",
      "Validation Acc: 0.5595262080430985\n",
      "Starting Epoch 4\n"
     ]
    },
    {
     "data": {
      "application/vnd.jupyter.widget-view+json": {
       "model_id": "626a5e0a94c44ca7a63776b99f8623cc",
       "version_major": 2,
       "version_minor": 0
      },
      "text/plain": [
       "  0%|          | 0/176 [00:00<?, ?it/s]"
      ]
     },
     "metadata": {},
     "output_type": "display_data"
    },
    {
     "data": {
      "application/vnd.jupyter.widget-view+json": {
       "model_id": "ab1332a721c04cda962b17614fa3f802",
       "version_major": 2,
       "version_minor": 0
      },
      "text/plain": [
       "  0%|          | 0/20 [00:00<?, ?it/s]"
      ]
     },
     "metadata": {},
     "output_type": "display_data"
    },
    {
     "name": "stdout",
     "output_type": "stream",
     "text": [
      "Training Loss: 0.6844467761164362\n",
      "Training Acc: 0.5646282823925669\n",
      "Validation Loss: 0.6833024501800538\n",
      "Validation Acc: 0.5594758063554763\n",
      "Starting Epoch 5\n"
     ]
    },
    {
     "data": {
      "application/vnd.jupyter.widget-view+json": {
       "model_id": "fca66d7ee6d44683b8f857dabe61aa3a",
       "version_major": 2,
       "version_minor": 0
      },
      "text/plain": [
       "  0%|          | 0/176 [00:00<?, ?it/s]"
      ]
     },
     "metadata": {},
     "output_type": "display_data"
    },
    {
     "data": {
      "application/vnd.jupyter.widget-view+json": {
       "model_id": "15146e8e96444a36a015fffa03941a86",
       "version_major": 2,
       "version_minor": 0
      },
      "text/plain": [
       "  0%|          | 0/20 [00:00<?, ?it/s]"
      ]
     },
     "metadata": {},
     "output_type": "display_data"
    },
    {
     "name": "stdout",
     "output_type": "stream",
     "text": [
      "Training Loss: 0.6832790378142487\n",
      "Training Acc: 0.5641819909214973\n",
      "Validation Loss: 0.6821341574192047\n",
      "Validation Acc: 0.5669732868671418\n",
      "Starting Epoch 6\n"
     ]
    },
    {
     "data": {
      "application/vnd.jupyter.widget-view+json": {
       "model_id": "049f11809dc24d77af6008f814e61c4a",
       "version_major": 2,
       "version_minor": 0
      },
      "text/plain": [
       "  0%|          | 0/176 [00:00<?, ?it/s]"
      ]
     },
     "metadata": {},
     "output_type": "display_data"
    },
    {
     "data": {
      "application/vnd.jupyter.widget-view+json": {
       "model_id": "14ad7e37ac8e4db3bd2782158d415667",
       "version_major": 2,
       "version_minor": 0
      },
      "text/plain": [
       "  0%|          | 0/20 [00:00<?, ?it/s]"
      ]
     },
     "metadata": {},
     "output_type": "display_data"
    },
    {
     "name": "stdout",
     "output_type": "stream",
     "text": [
      "Training Loss: 0.6824109117415819\n",
      "Training Acc: 0.5692315629937432\n",
      "Validation Loss: 0.6819943636655807\n",
      "Validation Acc: 0.5669984877109527\n",
      "Starting Epoch 7\n"
     ]
    },
    {
     "data": {
      "application/vnd.jupyter.widget-view+json": {
       "model_id": "2bbd4f03ed304a25b94e84c31714b722",
       "version_major": 2,
       "version_minor": 0
      },
      "text/plain": [
       "  0%|          | 0/176 [00:00<?, ?it/s]"
      ]
     },
     "metadata": {},
     "output_type": "display_data"
    },
    {
     "data": {
      "application/vnd.jupyter.widget-view+json": {
       "model_id": "8d2bfa49009545ca86aa5b68f29378d0",
       "version_major": 2,
       "version_minor": 0
      },
      "text/plain": [
       "  0%|          | 0/20 [00:00<?, ?it/s]"
      ]
     },
     "metadata": {},
     "output_type": "display_data"
    },
    {
     "name": "stdout",
     "output_type": "stream",
     "text": [
      "Training Loss: 0.6817324313927781\n",
      "Training Acc: 0.5670360970226201\n",
      "Validation Loss: 0.6909979403018951\n",
      "Validation Acc: 0.5595766127109527\n",
      "Starting Epoch 8\n"
     ]
    },
    {
     "data": {
      "application/vnd.jupyter.widget-view+json": {
       "model_id": "24a13ed6868e449cbc5998cd48c495c9",
       "version_major": 2,
       "version_minor": 0
      },
      "text/plain": [
       "  0%|          | 0/176 [00:00<?, ?it/s]"
      ]
     },
     "metadata": {},
     "output_type": "display_data"
    },
    {
     "data": {
      "application/vnd.jupyter.widget-view+json": {
       "model_id": "000deef8f14b41d2a4df537b8939b017",
       "version_major": 2,
       "version_minor": 0
      },
      "text/plain": [
       "  0%|          | 0/20 [00:00<?, ?it/s]"
      ]
     },
     "metadata": {},
     "output_type": "display_data"
    },
    {
     "name": "stdout",
     "output_type": "stream",
     "text": [
      "Training Loss: 0.680868883701888\n",
      "Training Acc: 0.5683881681073796\n",
      "Validation Loss: 0.6826654613018036\n",
      "Validation Acc: 0.5662424385547637\n",
      "Starting Epoch 9\n"
     ]
    },
    {
     "data": {
      "application/vnd.jupyter.widget-view+json": {
       "model_id": "a204468fffeb481eab549cf9b41c9b89",
       "version_major": 2,
       "version_minor": 0
      },
      "text/plain": [
       "  0%|          | 0/176 [00:00<?, ?it/s]"
      ]
     },
     "metadata": {},
     "output_type": "display_data"
    },
    {
     "data": {
      "application/vnd.jupyter.widget-view+json": {
       "model_id": "6ff16507c20a4f66b9b48a84f3f4fc05",
       "version_major": 2,
       "version_minor": 0
      },
      "text/plain": [
       "  0%|          | 0/20 [00:00<?, ?it/s]"
      ]
     },
     "metadata": {},
     "output_type": "display_data"
    },
    {
     "name": "stdout",
     "output_type": "stream",
     "text": [
      "Training Loss: 0.6807193099097772\n",
      "Training Acc: 0.5686748982830481\n",
      "Validation Loss: 0.6804829984903336\n",
      "Validation Acc: 0.5572076618671418\n",
      "Starting Epoch 10\n"
     ]
    },
    {
     "data": {
      "application/vnd.jupyter.widget-view+json": {
       "model_id": "de76a670a6ec418ea072123dbec59c73",
       "version_major": 2,
       "version_minor": 0
      },
      "text/plain": [
       "  0%|          | 0/176 [00:00<?, ?it/s]"
      ]
     },
     "metadata": {},
     "output_type": "display_data"
    },
    {
     "data": {
      "application/vnd.jupyter.widget-view+json": {
       "model_id": "685259af44b34f3a927eaf078b419a7c",
       "version_major": 2,
       "version_minor": 0
      },
      "text/plain": [
       "  0%|          | 0/20 [00:00<?, ?it/s]"
      ]
     },
     "metadata": {},
     "output_type": "display_data"
    },
    {
     "name": "stdout",
     "output_type": "stream",
     "text": [
      "Training Loss: 0.6804338036613031\n",
      "Training Acc: 0.5734449381178076\n",
      "Validation Loss: 0.6781943500041961\n",
      "Validation Acc: 0.5751764118671417\n"
     ]
    }
   ],
   "source": [
    "### SELECT DEVICE ###\n",
    "DEVICE = \"cuda\" if torch.cuda.is_available() else \"cpu\"\n",
    "print(f\"Training on Device {DEVICE}\")\n",
    "\n",
    "### MODEL TRAINING INPUTS ###\n",
    "epochs = 10\n",
    "loss_fn = nn.CrossEntropyLoss()\n",
    "batch_size = 128\n",
    "\n",
    "### BUILD DATALOADERS ###\n",
    "trainloader = DataLoader(train_dataset, batch_size=batch_size, shuffle=True, num_workers=4)\n",
    "valloader = DataLoader(val_dataset, batch_size=batch_size, shuffle=False, num_workers=4)\n",
    "\n",
    "### ResNet101 With Residuals ###\n",
    "model = ResNet101(residual=True) # Use ResNet50 if there is Memory Constraints\n",
    "model = model.to(DEVICE)\n",
    "optimizer = optim.Adam(params=model.parameters(), lr=0.0001)\n",
    "\n",
    "print(\"Training With Residuals\")\n",
    "resnet_w_resid, w_model = train(model=model,\n",
    "                                device=DEVICE,\n",
    "                                epochs=epochs,\n",
    "                                optimizer=optimizer,\n",
    "                                loss_fn=loss_fn,\n",
    "                                batch_size=batch_size,\n",
    "                                trainloader=trainloader,\n",
    "                                valloader=valloader)\n",
    "\n",
    "\n",
    "### ResNet101 Without Residuals ###\n",
    "model = ResNet101(residual=False) # Use ResNet50 if there is Memory Constraints\n",
    "model = model.to(DEVICE)\n",
    "optimizer = optim.Adam(params=model.parameters(), lr=0.0001)\n",
    "\n",
    "print(\"Training Without Residuals\")\n",
    "resnet_wo_resid, wo_model = train(model=model,\n",
    "                                  device=DEVICE,\n",
    "                                  epochs=epochs,\n",
    "                                  optimizer=optimizer,\n",
    "                                  loss_fn=loss_fn,\n",
    "                                  batch_size=batch_size,\n",
    "                                  trainloader=trainloader,\n",
    "                                  valloader=valloader)\n"
   ]
  },
  {
   "cell_type": "markdown",
   "id": "054bb58b-fae0-4e09-84fc-7fc09454d87d",
   "metadata": {},
   "source": [
    "### Plot Training Results"
   ]
  },
  {
   "cell_type": "code",
   "execution_count": 5,
   "id": "66d2b067-1c35-4908-8687-8632e6dcb494",
   "metadata": {
    "tags": []
   },
   "outputs": [
    {
     "data": {
      "image/png": "[encoded data removed]",
      "text/plain": [
       "<Figure size 640x480 with 1 Axes>"
      ]
     },
     "metadata": {},
     "output_type": "display_data"
    }
   ],
   "source": [
    "plt.plot(resnet_w_resid[\"epoch\"], resnet_w_resid[\"training_loss\"],  \"r--\",  label=\"With Residuals Training Loss\")\n",
    "plt.plot(resnet_w_resid[\"epoch\"], resnet_w_resid[\"validation_loss\"], \"g-\", label=\"With Residuals Validation Loss\")\n",
    "\n",
    "plt.plot(resnet_wo_resid[\"epoch\"], resnet_wo_resid[\"training_loss\"],  \"b--\",  label=\"Without Residuals Training Loss\")\n",
    "plt.plot(resnet_wo_resid[\"epoch\"], resnet_wo_resid[\"validation_loss\"], \"c-\", label=\"Without Residuals Validation Loss\")\n",
    "plt.legend()\n",
    "\n",
    "plt.xlabel(\"Epochs\")\n",
    "plt.ylabel(\"Cross Entropy Loss\")\n",
    "plt.title(\"Training Performance: Residuals vs No Residuals\")\n",
    "plt.show()"
   ]
  },
  {
   "cell_type": "markdown",
   "id": "f7d820c4-d03b-43d5-9776-e883b1bf5510",
   "metadata": {},
   "source": [
    "Notice above that there was almost no change in the loss when we dont have residuals. This is clear evidence that the model with 101 layers just cannot be optimized with gradient descent. On the other hand, Residuals allowed us to train the model and get great result with an almost 90% accuracy.\n",
    "\n",
    "\n",
    "That is it! We have learned an important idea that is used constantly in Deep Learning today! This isn't the last time we will be using skip connections as a trick to boost our models performance!"
   ]
  }
 ],
 "metadata": {
  "kernelspec": {
   "display_name": "Python 3 (ipykernel)",
   "language": "python",
   "name": "python3"
  },
  "language_info": {
   "codemirror_mode": {
    "name": "ipython",
    "version": 3
   },
   "file_extension": ".py",
   "mimetype": "text/x-python",
   "name": "python",
   "nbconvert_exporter": "python",
   "pygments_lexer": "ipython3",
   "version": "3.12.4"
  }
 },
 "nbformat": 4,
 "nbformat_minor": 5
}
