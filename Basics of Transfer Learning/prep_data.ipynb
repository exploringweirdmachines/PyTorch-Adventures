{
 "cells": [
  {
   "cell_type": "code",
   "execution_count": 6,
   "id": "4998bfd3-b90d-4028-8e13-e4f46c5001fc",
   "metadata": {},
   "outputs": [],
   "source": [
    "import os\n",
    "import shutil \n",
    "\n",
    "PATH_TO_DATA = \"data/train/\"\n",
    "PATH_TO_CATS = \"data/dogsvcats/cats\"\n",
    "PATH_TO_DOGS = \"data/dogsvcats/dogs\""
   ]
  },
  {
   "cell_type": "code",
   "execution_count": 10,
   "id": "0fb4d81f-7dc0-451e-b5e2-232ab1dbeb51",
   "metadata": {},
   "outputs": [],
   "source": [
    "for file in os.listdir(PATH_TO_DATA):\n",
    "    if \"cat\" in file:\n",
    "        path_to_src = os.path.join(PATH_TO_DATA, file)\n",
    "        shutil.copy(path_to_src, PATH_TO_CATS)\n",
    "    else:\n",
    "        path_to_src = os.path.join(PATH_TO_DATA, file)\n",
    "        shutil.copy(path_to_src, PATH_TO_DOGS)"
   ]
  }
 ],
 "metadata": {
  "kernelspec": {
   "display_name": "Python 3",
   "language": "python",
   "name": "python3"
  },
  "language_info": {
   "codemirror_mode": {
    "name": "ipython",
    "version": 3
   },
   "file_extension": ".py",
   "mimetype": "text/x-python",
   "name": "python",
   "nbconvert_exporter": "python",
   "pygments_lexer": "ipython3",
   "version": "3.9.6"
  }
 },
 "nbformat": 4,
 "nbformat_minor": 5
}
