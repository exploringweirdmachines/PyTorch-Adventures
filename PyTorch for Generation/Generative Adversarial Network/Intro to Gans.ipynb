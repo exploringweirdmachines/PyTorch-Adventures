{
 "cells": [
  {
   "cell_type": "code",
   "execution_count": 23,
   "id": "47558240-5e2e-48a2-9662-7f99ce0031ff",
   "metadata": {},
   "outputs": [],
   "source": [
    "import torch\n",
    "import torch.nn as nn\n",
    "from torchvision.datasets import MNIST\n",
    "from torchvision import transforms\n",
    "import torch.optim as optim \n",
    "\n",
    "import matplotlib.pyplot as plt\n",
    "from tqdm.notebook import tqdm"
   ]
  },
  {
   "cell_type": "code",
   "execution_count": 30,
   "id": "be90e49d-233b-47e5-8111-233f1d15e627",
   "metadata": {},
   "outputs": [],
   "source": [
    "class MNISTGenerator(nn.Module):\n",
    "    def __init__(self, latent_dimension):\n",
    "        super().__init__()\n",
    "\n",
    "        self.generator = nn.Sequential(\n",
    "            nn.Linear(latent_dimension, 64), \n",
    "            nn.ReLU(),\n",
    "            nn.Linear(64, 128), \n",
    "            nn.ReLU(), \n",
    "            nn.Linear(128, 256),\n",
    "            nn.ReLU(), \n",
    "            nn.Linear(256, 28*28),\n",
    "            nn.Tanh() # Ensures output of Generator is between -1,1\n",
    "        )\n",
    "\n",
    "    def forward(self, noise):\n",
    "        return self.generator(noise)\n",
    "\n",
    "class MNISTDiscriminator(nn.Module):\n",
    "    def __init__(self):\n",
    "        super().__init__()\n",
    "\n",
    "        self.discriminator = nn.Sequential(\n",
    "            nn.Linear(28*28, 256), \n",
    "            nn.ReLU(),\n",
    "            nn.Linear(256, 128), \n",
    "            nn.ReLU(),\n",
    "            nn.Linear(128, 64), \n",
    "            nn.ReLU(),\n",
    "            nn.Linear(128, 1)            \n",
    "        )\n",
    "\n",
    "    def forward(self, x):\n",
    "        batch_size = x.shape[0]\n",
    "        x = x.reshape(batch_size, -1)\n",
    "        return self.discriminator(x)"
   ]
  },
  {
   "cell_type": "code",
   "execution_count": 31,
   "id": "02fe2814-8fce-45b3-b00e-0e6c9a038c2c",
   "metadata": {},
   "outputs": [],
   "source": [
    "latent_dimension = 64\n",
    "batch_size = 128\n",
    "generator_learning_rate = 0.001\n",
    "discriminator_learning_rate = 0.001\n",
    "device = \"cuda\" if torch.cuda.is_available() else \"cpu\""
   ]
  },
  {
   "cell_type": "code",
   "execution_count": 38,
   "id": "e972c43e-37f7-4b76-bc89-5406a8c6f405",
   "metadata": {},
   "outputs": [],
   "source": [
    "### Define Models ###\n",
    "generator = MNISTGenerator(latent_dimension).to(device)\n",
    "discriminator = MNISTDiscriminator().to(device)\n",
    "\n",
    "### Define Optimizers ###\n",
    "gen_optimizer = optim.Adam(generator.parameters(), generator_learning_rate)\n",
    "disc_optimizer = optim.Adam(discriminator.parameters(), discriminator_learning_rate)\n",
    "\n",
    "### Define Datasets ###\n",
    "tensor2image_transforms = transforms.Compose([\n",
    "    transforms.ToTensor(),\n",
    "    transforms.Lambda(lambda t: (t*2) - 1)\n",
    "])\n",
    "\n",
    "\n",
    "trainset = MNIST(\"../../data\", transform=tensor2image_transforms)"
   ]
  },
  {
   "cell_type": "code",
   "execution_count": 13,
   "id": "9ab38d76-7bc3-4bec-8959-5b13cab2bf04",
   "metadata": {},
   "outputs": [
    {
     "data": {
      "text/plain": [
       "MNISTGenerator(\n",
       "  (generator): Sequential(\n",
       "    (0): Linear(in_features=64, out_features=64, bias=True)\n",
       "    (1): ReLU()\n",
       "    (2): Linear(in_features=64, out_features=128, bias=True)\n",
       "    (3): ReLU()\n",
       "    (4): Linear(in_features=128, out_features=256, bias=True)\n",
       "    (5): ReLU()\n",
       "    (6): Linear(in_features=256, out_features=784, bias=True)\n",
       "    (7): Tanh()\n",
       "  )\n",
       ")"
      ]
     },
     "execution_count": 13,
     "metadata": {},
     "output_type": "execute_result"
    }
   ],
   "source": [
    "generator"
   ]
  }
 ],
 "metadata": {
  "kernelspec": {
   "display_name": "Python 3 (ipykernel)",
   "language": "python",
   "name": "python3"
  },
  "language_info": {
   "codemirror_mode": {
    "name": "ipython",
    "version": 3
   },
   "file_extension": ".py",
   "mimetype": "text/x-python",
   "name": "python",
   "nbconvert_exporter": "python",
   "pygments_lexer": "ipython3",
   "version": "3.12.4"
  }
 },
 "nbformat": 4,
 "nbformat_minor": 5
}
